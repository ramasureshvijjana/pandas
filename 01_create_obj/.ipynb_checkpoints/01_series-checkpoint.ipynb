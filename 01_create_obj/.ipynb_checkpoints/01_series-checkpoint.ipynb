{
 "cells": [
  {
   "cell_type": "markdown",
   "id": "55c7ba7d",
   "metadata": {},
   "source": [
    "## Create Series object"
   ]
  },
  {
   "cell_type": "code",
   "execution_count": 1,
   "id": "0fd8874f",
   "metadata": {},
   "outputs": [
    {
     "name": "stdout",
     "output_type": "stream",
     "text": [
      "0    34\n",
      "1    67\n",
      "2     3\n",
      "3    23\n",
      "4    67\n",
      "5     4\n",
      "dtype: int64\n"
     ]
    }
   ],
   "source": [
    "# Import pandas library\n",
    "import pandas as pd\n",
    "\n",
    "# Creating series obj\n",
    "sers_obj = pd.Series([34, 67, 3, 23, 67, 4])\n",
    "print(sers_obj)"
   ]
  }
 ],
 "metadata": {
  "kernelspec": {
   "display_name": "Python 3",
   "language": "python",
   "name": "python3"
  },
  "language_info": {
   "codemirror_mode": {
    "name": "ipython",
    "version": 3
   },
   "file_extension": ".py",
   "mimetype": "text/x-python",
   "name": "python",
   "nbconvert_exporter": "python",
   "pygments_lexer": "ipython3",
   "version": "3.8.3"
  }
 },
 "nbformat": 4,
 "nbformat_minor": 5
}
