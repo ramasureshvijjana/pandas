{
 "cells": [
  {
   "cell_type": "markdown",
   "id": "767fd09a",
   "metadata": {},
   "source": [
    "## Create DataFrame"
   ]
  },
  {
   "cell_type": "code",
   "execution_count": 2,
   "id": "d52f8697",
   "metadata": {},
   "outputs": [
    {
     "name": "stdout",
     "output_type": "stream",
     "text": [
      "          A         B         C         D\n",
      "0 -0.276594 -0.797102  0.370058  0.963991\n",
      "1  1.547316  0.896847  0.640112  0.105887\n",
      "2 -0.510543  0.587925 -0.159119  0.587498\n",
      "3  1.280024 -0.336295  0.997037  1.864786\n",
      "4  0.121829 -0.217335 -0.204803  1.254172\n",
      "5  0.314013  0.398849  0.920292 -0.270854\n",
      "6  0.291228  1.661585  0.820001  0.371747\n",
      "7  1.346067 -2.598627  2.184878  1.271341\n",
      "8  0.762619  0.685703 -0.316010 -0.625747\n",
      "9 -0.242091 -1.300692  1.821712  0.712547\n"
     ]
    }
   ],
   "source": [
    "import numpy as np\n",
    "import pandas as pd\n",
    "\n",
    "df_obj = pd.DataFrame(np.random.randn(10,4), columns=['A', 'B', 'C', 'D'])\n",
    "print(df_obj)"
   ]
  },
  {
   "cell_type": "code",
   "execution_count": 3,
   "id": "6c4eea33",
   "metadata": {},
   "outputs": [
    {
     "name": "stdout",
     "output_type": "stream",
     "text": [
      "DatetimeIndex(['2013-01-01', '2013-01-02', '2013-01-03', '2013-01-04',\n",
      "               '2013-01-05', '2013-01-06', '2013-01-07', '2013-01-08',\n",
      "               '2013-01-09', '2013-01-10'],\n",
      "              dtype='datetime64[ns]', freq='D')\n",
      "                   A         B         C         D\n",
      "2013-01-01 -0.476169 -0.661516  1.048550  0.971970\n",
      "2013-01-02 -0.465565  0.815652  0.502836 -0.350385\n",
      "2013-01-03 -0.298556 -0.610176 -0.857712  0.212434\n",
      "2013-01-04 -0.845012 -0.942929 -0.911717 -1.284215\n",
      "2013-01-05 -0.153323  0.068741 -0.241396  0.158739\n",
      "2013-01-06  0.410298  0.389846 -0.729019 -1.677888\n",
      "2013-01-07 -0.514327 -0.024016 -1.443039 -0.944137\n",
      "2013-01-08 -1.872164  0.230067  0.754192  0.510937\n",
      "2013-01-09 -0.785556 -0.029895  0.097908 -0.900355\n",
      "2013-01-10  0.082630 -1.507264  1.836987  0.155653\n"
     ]
    }
   ],
   "source": [
    "dates = pd.date_range(\"20130101\", periods=10)\n",
    "print(dates)\n",
    "df_obj = pd.DataFrame(np.random.randn(10,4), index=dates, columns=['A', 'B', 'C', 'D'])\n",
    "print(df_obj)"
   ]
  },
  {
   "cell_type": "markdown",
   "id": "f49ef63a",
   "metadata": {},
   "source": [
    "### Create DataFrame with list"
   ]
  },
  {
   "cell_type": "code",
   "execution_count": 8,
   "id": "0d94119f",
   "metadata": {},
   "outputs": [
    {
     "name": "stdout",
     "output_type": "stream",
     "text": [
      "    A\n",
      "0  23\n",
      "1  24\n",
      "2  25\n",
      "3  16\n"
     ]
    }
   ],
   "source": [
    "data = pd.DataFrame([23,24,25,16], columns=['A'])\n",
    "print(data)"
   ]
  }
 ],
 "metadata": {
  "kernelspec": {
   "display_name": "Python 3",
   "language": "python",
   "name": "python3"
  },
  "language_info": {
   "codemirror_mode": {
    "name": "ipython",
    "version": 3
   },
   "file_extension": ".py",
   "mimetype": "text/x-python",
   "name": "python",
   "nbconvert_exporter": "python",
   "pygments_lexer": "ipython3",
   "version": "3.8.3"
  }
 },
 "nbformat": 4,
 "nbformat_minor": 5
}
