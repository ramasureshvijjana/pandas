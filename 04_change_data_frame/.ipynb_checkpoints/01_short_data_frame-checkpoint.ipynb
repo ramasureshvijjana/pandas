{
 "cells": [
  {
   "cell_type": "code",
   "execution_count": 4,
   "id": "13e93a9a",
   "metadata": {},
   "outputs": [
    {
     "name": "stdout",
     "output_type": "stream",
     "text": [
      "          A         B         C         D\n",
      "0 -0.336959  0.094922 -0.140510 -0.542195\n",
      "1  0.277438 -0.440112  1.639316  0.003275\n",
      "2  0.785563 -1.985425 -1.584956 -0.266938\n",
      "3 -0.929277  0.890241 -0.379067  0.618549\n",
      "4 -0.402185  0.893396 -1.008301 -0.939467\n",
      "5 -1.340353 -1.377530 -0.334681  0.177652\n",
      "6  0.888347 -0.515609  0.616714  2.233859\n",
      "7  0.128376 -0.643427 -0.982805  0.229051\n",
      "8 -1.619845  0.620687 -0.225607  0.929779\n",
      "9  1.178107 -0.049454 -0.320948 -1.195132\n"
     ]
    }
   ],
   "source": [
    "import numpy as np\n",
    "import pandas as pd\n",
    "\n",
    "df = pd.DataFrame(np.random.randn(10,4), columns=['A', 'B', 'C', 'D'])\n",
    "print(df)"
   ]
  },
  {
   "cell_type": "markdown",
   "id": "7d36d82a",
   "metadata": {},
   "source": [
    "### Sorting by an axis"
   ]
  },
  {
   "cell_type": "code",
   "execution_count": null,
   "id": "673e675e",
   "metadata": {},
   "outputs": [],
   "source": [
    "=> sort_index is short the features with column names\n",
    "=> ascending=False means, it will arrange the column in descending order based on column names.\n",
    "=> In this function ascending is True by default"
   ]
  },
  {
   "cell_type": "code",
   "execution_count": 5,
   "id": "e22dadc8",
   "metadata": {},
   "outputs": [
    {
     "name": "stdout",
     "output_type": "stream",
     "text": [
      "          D         C         B         A\n",
      "0 -1.094123 -0.510227  0.531969 -0.693274\n",
      "1  0.154838 -0.479169 -0.375648 -0.003487\n",
      "2 -0.768513  1.476849  0.904242 -1.030705\n",
      "3  0.002303  1.360112  0.136173  0.228475\n",
      "4  2.030723  1.984445  0.227025 -1.838911\n",
      "5 -0.893299  1.971664  0.002490 -1.349461\n",
      "6  0.032269 -0.849247  0.257729 -0.095302\n",
      "7 -1.924043 -0.634659 -0.144160  1.218562\n",
      "8 -1.412964 -0.080715  1.094087  1.092555\n",
      "9 -0.604977 -1.462187 -2.144677 -1.004060\n"
     ]
    }
   ],
   "source": [
    "df = df_obj.sort_index(axis=1, ascending=False)\n",
    "print(df)"
   ]
  },
  {
   "cell_type": "markdown",
   "id": "e43f759f",
   "metadata": {},
   "source": [
    "### Sorting by values"
   ]
  },
  {
   "cell_type": "code",
   "execution_count": 7,
   "id": "392045ad",
   "metadata": {},
   "outputs": [
    {
     "name": "stdout",
     "output_type": "stream",
     "text": [
      "          D         C         B         A\n",
      "9 -0.604977 -1.462187 -2.144677 -1.004060\n",
      "1  0.154838 -0.479169 -0.375648 -0.003487\n",
      "7 -1.924043 -0.634659 -0.144160  1.218562\n",
      "5 -0.893299  1.971664  0.002490 -1.349461\n",
      "3  0.002303  1.360112  0.136173  0.228475\n",
      "4  2.030723  1.984445  0.227025 -1.838911\n",
      "6  0.032269 -0.849247  0.257729 -0.095302\n",
      "0 -1.094123 -0.510227  0.531969 -0.693274\n",
      "2 -0.768513  1.476849  0.904242 -1.030705\n",
      "8 -1.412964 -0.080715  1.094087  1.092555\n"
     ]
    }
   ],
   "source": [
    "df = df.sort_values(by=\"B\")\n",
    "print(df)"
   ]
  },
  {
   "cell_type": "markdown",
   "id": "8f7d5aed",
   "metadata": {},
   "source": [
    "### Transposing your data"
   ]
  },
  {
   "cell_type": "code",
   "execution_count": 10,
   "id": "f5f58259",
   "metadata": {},
   "outputs": [
    {
     "data": {
      "text/html": [
       "<div>\n",
       "<style scoped>\n",
       "    .dataframe tbody tr th:only-of-type {\n",
       "        vertical-align: middle;\n",
       "    }\n",
       "\n",
       "    .dataframe tbody tr th {\n",
       "        vertical-align: top;\n",
       "    }\n",
       "\n",
       "    .dataframe thead th {\n",
       "        text-align: right;\n",
       "    }\n",
       "</style>\n",
       "<table border=\"1\" class=\"dataframe\">\n",
       "  <thead>\n",
       "    <tr style=\"text-align: right;\">\n",
       "      <th></th>\n",
       "      <th>9</th>\n",
       "      <th>1</th>\n",
       "      <th>7</th>\n",
       "      <th>5</th>\n",
       "      <th>3</th>\n",
       "      <th>4</th>\n",
       "      <th>6</th>\n",
       "      <th>0</th>\n",
       "      <th>2</th>\n",
       "      <th>8</th>\n",
       "    </tr>\n",
       "  </thead>\n",
       "  <tbody>\n",
       "    <tr>\n",
       "      <th>D</th>\n",
       "      <td>-0.604977</td>\n",
       "      <td>0.154838</td>\n",
       "      <td>-1.924043</td>\n",
       "      <td>-0.893299</td>\n",
       "      <td>0.002303</td>\n",
       "      <td>2.030723</td>\n",
       "      <td>0.032269</td>\n",
       "      <td>-1.094123</td>\n",
       "      <td>-0.768513</td>\n",
       "      <td>-1.412964</td>\n",
       "    </tr>\n",
       "    <tr>\n",
       "      <th>C</th>\n",
       "      <td>-1.462187</td>\n",
       "      <td>-0.479169</td>\n",
       "      <td>-0.634659</td>\n",
       "      <td>1.971664</td>\n",
       "      <td>1.360112</td>\n",
       "      <td>1.984445</td>\n",
       "      <td>-0.849247</td>\n",
       "      <td>-0.510227</td>\n",
       "      <td>1.476849</td>\n",
       "      <td>-0.080715</td>\n",
       "    </tr>\n",
       "    <tr>\n",
       "      <th>B</th>\n",
       "      <td>-2.144677</td>\n",
       "      <td>-0.375648</td>\n",
       "      <td>-0.144160</td>\n",
       "      <td>0.002490</td>\n",
       "      <td>0.136173</td>\n",
       "      <td>0.227025</td>\n",
       "      <td>0.257729</td>\n",
       "      <td>0.531969</td>\n",
       "      <td>0.904242</td>\n",
       "      <td>1.094087</td>\n",
       "    </tr>\n",
       "    <tr>\n",
       "      <th>A</th>\n",
       "      <td>-1.004060</td>\n",
       "      <td>-0.003487</td>\n",
       "      <td>1.218562</td>\n",
       "      <td>-1.349461</td>\n",
       "      <td>0.228475</td>\n",
       "      <td>-1.838911</td>\n",
       "      <td>-0.095302</td>\n",
       "      <td>-0.693274</td>\n",
       "      <td>-1.030705</td>\n",
       "      <td>1.092555</td>\n",
       "    </tr>\n",
       "  </tbody>\n",
       "</table>\n",
       "</div>"
      ],
      "text/plain": [
       "          9         1         7         5         3         4         6  \\\n",
       "D -0.604977  0.154838 -1.924043 -0.893299  0.002303  2.030723  0.032269   \n",
       "C -1.462187 -0.479169 -0.634659  1.971664  1.360112  1.984445 -0.849247   \n",
       "B -2.144677 -0.375648 -0.144160  0.002490  0.136173  0.227025  0.257729   \n",
       "A -1.004060 -0.003487  1.218562 -1.349461  0.228475 -1.838911 -0.095302   \n",
       "\n",
       "          0         2         8  \n",
       "D -1.094123 -0.768513 -1.412964  \n",
       "C -0.510227  1.476849 -0.080715  \n",
       "B  0.531969  0.904242  1.094087  \n",
       "A -0.693274 -1.030705  1.092555  "
      ]
     },
     "execution_count": 10,
     "metadata": {},
     "output_type": "execute_result"
    }
   ],
   "source": [
    "df.T"
   ]
  }
 ],
 "metadata": {
  "kernelspec": {
   "display_name": "Python 3",
   "language": "python",
   "name": "python3"
  },
  "language_info": {
   "codemirror_mode": {
    "name": "ipython",
    "version": 3
   },
   "file_extension": ".py",
   "mimetype": "text/x-python",
   "name": "python",
   "nbconvert_exporter": "python",
   "pygments_lexer": "ipython3",
   "version": "3.8.3"
  }
 },
 "nbformat": 4,
 "nbformat_minor": 5
}
