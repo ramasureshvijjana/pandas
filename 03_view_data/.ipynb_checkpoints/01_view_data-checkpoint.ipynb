{
 "cells": [
  {
   "cell_type": "markdown",
   "id": "8417fc88",
   "metadata": {},
   "source": [
    "## Data View Methods In Python"
   ]
  },
  {
   "cell_type": "code",
   "execution_count": 3,
   "id": "70975b04",
   "metadata": {},
   "outputs": [],
   "source": [
    "import pandas as pd\n",
    "\n",
    "df = pd.read_csv('\\pandas\\data\\Churn_Modelling.csv')"
   ]
  },
  {
   "cell_type": "markdown",
   "id": "ce49c55c",
   "metadata": {},
   "source": [
    "### View total data"
   ]
  },
  {
   "cell_type": "code",
   "execution_count": 4,
   "id": "64a0d455",
   "metadata": {},
   "outputs": [
    {
     "name": "stdout",
     "output_type": "stream",
     "text": [
      "      RowNumber  CustomerId    Surname  CreditScore Geography  Gender  Age  \\\n",
      "0             1    15634602   Hargrave          619    France  Female   42   \n",
      "1             2    15647311       Hill          608     Spain  Female   41   \n",
      "2             3    15619304       Onio          502    France  Female   42   \n",
      "3             4    15701354       Boni          699    France  Female   39   \n",
      "4             5    15737888   Mitchell          850     Spain  Female   43   \n",
      "...         ...         ...        ...          ...       ...     ...  ...   \n",
      "9995       9996    15606229   Obijiaku          771    France    Male   39   \n",
      "9996       9997    15569892  Johnstone          516    France    Male   35   \n",
      "9997       9998    15584532        Liu          709    France  Female   36   \n",
      "9998       9999    15682355  Sabbatini          772   Germany    Male   42   \n",
      "9999      10000    15628319     Walker          792    France  Female   28   \n",
      "\n",
      "      Tenure    Balance  NumOfProducts  HasCrCard  IsActiveMember  \\\n",
      "0          2       0.00              1          1               1   \n",
      "1          1   83807.86              1          0               1   \n",
      "2          8  159660.80              3          1               0   \n",
      "3          1       0.00              2          0               0   \n",
      "4          2  125510.82              1          1               1   \n",
      "...      ...        ...            ...        ...             ...   \n",
      "9995       5       0.00              2          1               0   \n",
      "9996      10   57369.61              1          1               1   \n",
      "9997       7       0.00              1          0               1   \n",
      "9998       3   75075.31              2          1               0   \n",
      "9999       4  130142.79              1          1               0   \n",
      "\n",
      "      EstimatedSalary  Exited  \n",
      "0           101348.88       1  \n",
      "1           112542.58       0  \n",
      "2           113931.57       1  \n",
      "3            93826.63       0  \n",
      "4            79084.10       0  \n",
      "...               ...     ...  \n",
      "9995         96270.64       0  \n",
      "9996        101699.77       0  \n",
      "9997         42085.58       1  \n",
      "9998         92888.52       1  \n",
      "9999         38190.78       0  \n",
      "\n",
      "[10000 rows x 14 columns]\n"
     ]
    }
   ],
   "source": [
    "print(df)"
   ]
  },
  {
   "cell_type": "markdown",
   "id": "69256e8c",
   "metadata": {},
   "source": [
    "### View only first 6 rows"
   ]
  },
  {
   "cell_type": "code",
   "execution_count": 6,
   "id": "edebc6ac",
   "metadata": {},
   "outputs": [
    {
     "name": "stdout",
     "output_type": "stream",
     "text": [
      "   RowNumber  CustomerId   Surname  CreditScore Geography  Gender  Age  \\\n",
      "0          1    15634602  Hargrave          619    France  Female   42   \n",
      "1          2    15647311      Hill          608     Spain  Female   41   \n",
      "2          3    15619304      Onio          502    France  Female   42   \n",
      "3          4    15701354      Boni          699    France  Female   39   \n",
      "4          5    15737888  Mitchell          850     Spain  Female   43   \n",
      "5          6    15574012       Chu          645     Spain    Male   44   \n",
      "\n",
      "   Tenure    Balance  NumOfProducts  HasCrCard  IsActiveMember  \\\n",
      "0       2       0.00              1          1               1   \n",
      "1       1   83807.86              1          0               1   \n",
      "2       8  159660.80              3          1               0   \n",
      "3       1       0.00              2          0               0   \n",
      "4       2  125510.82              1          1               1   \n",
      "5       8  113755.78              2          1               0   \n",
      "\n",
      "   EstimatedSalary  Exited  \n",
      "0        101348.88       1  \n",
      "1        112542.58       0  \n",
      "2        113931.57       1  \n",
      "3         93826.63       0  \n",
      "4         79084.10       0  \n",
      "5        149756.71       1  \n"
     ]
    }
   ],
   "source": [
    "print(df.head(6)) # By defaul it shows 5 rows"
   ]
  },
  {
   "cell_type": "markdown",
   "id": "3ee4eace",
   "metadata": {},
   "source": [
    "### View last 6 rows"
   ]
  },
  {
   "cell_type": "code",
   "execution_count": 7,
   "id": "ad6b3107",
   "metadata": {},
   "outputs": [
    {
     "name": "stdout",
     "output_type": "stream",
     "text": [
      "      RowNumber  CustomerId    Surname  CreditScore Geography  Gender  Age  \\\n",
      "9994       9995    15719294       Wood          800    France  Female   29   \n",
      "9995       9996    15606229   Obijiaku          771    France    Male   39   \n",
      "9996       9997    15569892  Johnstone          516    France    Male   35   \n",
      "9997       9998    15584532        Liu          709    France  Female   36   \n",
      "9998       9999    15682355  Sabbatini          772   Germany    Male   42   \n",
      "9999      10000    15628319     Walker          792    France  Female   28   \n",
      "\n",
      "      Tenure    Balance  NumOfProducts  HasCrCard  IsActiveMember  \\\n",
      "9994       2       0.00              2          0               0   \n",
      "9995       5       0.00              2          1               0   \n",
      "9996      10   57369.61              1          1               1   \n",
      "9997       7       0.00              1          0               1   \n",
      "9998       3   75075.31              2          1               0   \n",
      "9999       4  130142.79              1          1               0   \n",
      "\n",
      "      EstimatedSalary  Exited  \n",
      "9994        167773.55       0  \n",
      "9995         96270.64       0  \n",
      "9996        101699.77       0  \n",
      "9997         42085.58       1  \n",
      "9998         92888.52       1  \n",
      "9999         38190.78       0  \n"
     ]
    }
   ],
   "source": [
    "print(df.tail(6))"
   ]
  },
  {
   "cell_type": "markdown",
   "id": "e2d339b2",
   "metadata": {},
   "source": [
    "### Index values"
   ]
  },
  {
   "cell_type": "code",
   "execution_count": 8,
   "id": "d8e6c84c",
   "metadata": {},
   "outputs": [
    {
     "name": "stdout",
     "output_type": "stream",
     "text": [
      "RangeIndex(start=0, stop=10000, step=1)\n"
     ]
    }
   ],
   "source": [
    "print(df.index)"
   ]
  },
  {
   "cell_type": "markdown",
   "id": "f33d446f",
   "metadata": {},
   "source": [
    "### Column names"
   ]
  },
  {
   "cell_type": "code",
   "execution_count": 9,
   "id": "c120b104",
   "metadata": {},
   "outputs": [
    {
     "name": "stdout",
     "output_type": "stream",
     "text": [
      "Index(['RowNumber', 'CustomerId', 'Surname', 'CreditScore', 'Geography',\n",
      "       'Gender', 'Age', 'Tenure', 'Balance', 'NumOfProducts', 'HasCrCard',\n",
      "       'IsActiveMember', 'EstimatedSalary', 'Exited'],\n",
      "      dtype='object')\n"
     ]
    }
   ],
   "source": [
    "print(df.columns)"
   ]
  },
  {
   "cell_type": "markdown",
   "id": "8bb46846",
   "metadata": {},
   "source": [
    "### describe()"
   ]
  },
  {
   "cell_type": "code",
   "execution_count": null,
   "id": "2122e06c",
   "metadata": {},
   "outputs": [],
   "source": [
    "=> describe() shows a quick statistic summary of your data."
   ]
  },
  {
   "cell_type": "code",
   "execution_count": 28,
   "id": "1f2b80af",
   "metadata": {},
   "outputs": [
    {
     "name": "stdout",
     "output_type": "stream",
     "text": [
      "        CreditScore           Age        Balance  NumOfProducts  \\\n",
      "count  10000.000000  10000.000000   10000.000000   10000.000000   \n",
      "mean     650.528800     38.921800   76485.889288       1.530200   \n",
      "std       96.653299     10.487806   62397.405202       0.581654   \n",
      "min      350.000000     18.000000       0.000000       1.000000   \n",
      "25%      584.000000     32.000000       0.000000       1.000000   \n",
      "50%      652.000000     37.000000   97198.540000       1.000000   \n",
      "75%      718.000000     44.000000  127644.240000       2.000000   \n",
      "max      850.000000     92.000000  250898.090000       4.000000   \n",
      "\n",
      "       EstimatedSalary  \n",
      "count     10000.000000  \n",
      "mean     100090.239881  \n",
      "std       57510.492818  \n",
      "min          11.580000  \n",
      "25%       51002.110000  \n",
      "50%      100193.915000  \n",
      "75%      149388.247500  \n",
      "max      199992.480000  \n",
      "\n",
      "\n",
      " DATA : \n",
      "       CreditScore  Age    Balance  NumOfProducts  EstimatedSalary\n",
      "0             619   42       0.00              1        101348.88\n",
      "1             608   41   83807.86              1        112542.58\n",
      "2             502   42  159660.80              3        113931.57\n",
      "3             699   39       0.00              2         93826.63\n",
      "4             850   43  125510.82              1         79084.10\n",
      "...           ...  ...        ...            ...              ...\n",
      "9995          771   39       0.00              2         96270.64\n",
      "9996          516   35   57369.61              1        101699.77\n",
      "9997          709   36       0.00              1         42085.58\n",
      "9998          772   42   75075.31              2         92888.52\n",
      "9999          792   28  130142.79              1         38190.78\n",
      "\n",
      "[10000 rows x 5 columns]\n"
     ]
    }
   ],
   "source": [
    "numari_data = df.loc[:, ['CreditScore', 'Age', 'Balance', 'NumOfProducts', 'EstimatedSalary']]\n",
    "\n",
    "print(numari_data.describe())\n",
    "\n",
    "print('\\n\\n DATA : \\n',numari_data) # print toStal data"
   ]
  }
 ],
 "metadata": {
  "kernelspec": {
   "display_name": "Python 3",
   "language": "python",
   "name": "python3"
  },
  "language_info": {
   "codemirror_mode": {
    "name": "ipython",
    "version": 3
   },
   "file_extension": ".py",
   "mimetype": "text/x-python",
   "name": "python",
   "nbconvert_exporter": "python",
   "pygments_lexer": "ipython3",
   "version": "3.8.3"
  }
 },
 "nbformat": 4,
 "nbformat_minor": 5
}
